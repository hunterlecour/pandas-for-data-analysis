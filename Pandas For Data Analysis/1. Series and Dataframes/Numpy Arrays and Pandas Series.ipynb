{
 "cells": [
  {
   "cell_type": "markdown",
   "id": "7cefb24a-8869-4b96-aaa9-8dcd1af0b8d7",
   "metadata": {},
   "source": [
    "### Numpy Arrays and Pandas Series"
   ]
  },
  {
   "cell_type": "code",
   "execution_count": null,
   "id": "f565b0e4-cc93-4da2-9aa8-b2e3ed9db72c",
   "metadata": {},
   "outputs": [],
   "source": [
    "import numpy as np\n",
    "import pandas as pd"
   ]
  },
  {
   "cell_type": "code",
   "execution_count": 2,
   "id": "4e91af1f-cf60-4555-87e0-473a7138aed2",
   "metadata": {},
   "outputs": [],
   "source": [
    "my_list = [10,25,35]"
   ]
  },
  {
   "cell_type": "code",
   "execution_count": 3,
   "id": "a3bec375-d396-48a5-94d7-c78b8224b55c",
   "metadata": {},
   "outputs": [
    {
     "name": "stdout",
     "output_type": "stream",
     "text": [
      "[10 25 35]\n"
     ]
    }
   ],
   "source": [
    "x = np.array(my_list)\n",
    "\n",
    "print(x)"
   ]
  },
  {
   "cell_type": "code",
   "execution_count": 4,
   "id": "a096bb35-53d2-4b1f-855b-444acaa3470b",
   "metadata": {},
   "outputs": [
    {
     "data": {
      "text/plain": [
       "array([10, 25, 35])"
      ]
     },
     "execution_count": 4,
     "metadata": {},
     "output_type": "execute_result"
    }
   ],
   "source": [
    "x"
   ]
  },
  {
   "cell_type": "code",
   "execution_count": 5,
   "id": "d2c2f01d-c3d2-43cd-a67e-08fa55e3c214",
   "metadata": {},
   "outputs": [
    {
     "data": {
      "text/plain": [
       "numpy.ndarray"
      ]
     },
     "execution_count": 5,
     "metadata": {},
     "output_type": "execute_result"
    }
   ],
   "source": [
    "type(x)"
   ]
  },
  {
   "cell_type": "code",
   "execution_count": 6,
   "id": "020238c2-2e5a-47ba-b0ed-933b1e6cf54e",
   "metadata": {},
   "outputs": [
    {
     "data": {
      "text/plain": [
       "0    10\n",
       "1    25\n",
       "2    35\n",
       "dtype: int64"
      ]
     },
     "execution_count": 6,
     "metadata": {},
     "output_type": "execute_result"
    }
   ],
   "source": [
    "pd.Series(my_list)"
   ]
  },
  {
   "cell_type": "code",
   "execution_count": 7,
   "id": "c69b3824-842f-4920-b857-20a817385f7b",
   "metadata": {},
   "outputs": [],
   "source": [
    "y = pd.Series(my_list)"
   ]
  },
  {
   "cell_type": "code",
   "execution_count": 8,
   "id": "d5860617-3fbb-44d3-8567-a9f98e1715e9",
   "metadata": {},
   "outputs": [
    {
     "data": {
      "text/plain": [
       "pandas.core.series.Series"
      ]
     },
     "execution_count": 8,
     "metadata": {},
     "output_type": "execute_result"
    }
   ],
   "source": [
    "type(y)"
   ]
  },
  {
   "cell_type": "code",
   "execution_count": 10,
   "id": "7399ca74-44a4-4b3d-940f-4d5bb117b3e1",
   "metadata": {},
   "outputs": [],
   "source": [
    "index_values = ['Best','Second Best', 'Third Best']\n",
    "my_list = [10,25,35]\n",
    "\n",
    "one = pd.Series(data = my_list, index = index_values)"
   ]
  },
  {
   "cell_type": "code",
   "execution_count": 11,
   "id": "f71c13a7-f932-4fe4-a3d8-5d0b5f85696c",
   "metadata": {},
   "outputs": [],
   "source": [
    "index_values2 = ['Best','Second Best', 'Fourth Best']\n",
    "my_list2 = [10,25,40]\n",
    "\n",
    "two = pd.Series(data = my_list2, index = index_values2)"
   ]
  },
  {
   "cell_type": "code",
   "execution_count": 12,
   "id": "3295b70c-9e64-46e4-b11f-6bd6662398fd",
   "metadata": {},
   "outputs": [
    {
     "data": {
      "text/plain": [
       "Best           10\n",
       "Second Best    24\n",
       "Third Best     35\n",
       "dtype: int64"
      ]
     },
     "execution_count": 12,
     "metadata": {},
     "output_type": "execute_result"
    }
   ],
   "source": [
    "one"
   ]
  },
  {
   "cell_type": "code",
   "execution_count": 13,
   "id": "b23b47ff-b7ce-4c66-8011-a9eafd515d11",
   "metadata": {},
   "outputs": [
    {
     "data": {
      "text/plain": [
       "Best           10\n",
       "Second Best    25\n",
       "Fourth Best    40\n",
       "dtype: int64"
      ]
     },
     "execution_count": 13,
     "metadata": {},
     "output_type": "execute_result"
    }
   ],
   "source": [
    "two"
   ]
  },
  {
   "cell_type": "code",
   "execution_count": 14,
   "id": "5c797878-d00e-42f5-9149-8c3ec2471cfb",
   "metadata": {},
   "outputs": [
    {
     "data": {
      "text/plain": [
       "Best           20.0\n",
       "Fourth Best     NaN\n",
       "Second Best    49.0\n",
       "Third Best      NaN\n",
       "dtype: float64"
      ]
     },
     "execution_count": 14,
     "metadata": {},
     "output_type": "execute_result"
    }
   ],
   "source": [
    "total = one + two\n",
    "total"
   ]
  },
  {
   "cell_type": "code",
   "execution_count": 15,
   "id": "238fa396-b831-4154-9886-d7c30debb67a",
   "metadata": {},
   "outputs": [
    {
     "data": {
      "text/plain": [
       "20.0"
      ]
     },
     "execution_count": 15,
     "metadata": {},
     "output_type": "execute_result"
    }
   ],
   "source": [
    "total['Best']"
   ]
  },
  {
   "cell_type": "code",
   "execution_count": 17,
   "id": "712e73af-dd33-4ed7-9497-e0cb5c4b164b",
   "metadata": {},
   "outputs": [
    {
     "name": "stderr",
     "output_type": "stream",
     "text": [
      "C:\\Users\\hunte\\AppData\\Local\\Temp\\ipykernel_13768\\3900337425.py:1: FutureWarning: Series.__getitem__ treating keys as positions is deprecated. In a future version, integer keys will always be treated as labels (consistent with DataFrame behavior). To access a value by position, use `ser.iloc[pos]`\n",
      "  total[0]\n"
     ]
    },
    {
     "data": {
      "text/plain": [
       "20.0"
      ]
     },
     "execution_count": 17,
     "metadata": {},
     "output_type": "execute_result"
    }
   ],
   "source": [
    "total[0]"
   ]
  },
  {
   "cell_type": "code",
   "execution_count": null,
   "id": "8f2ff544-f42e-45be-8772-b36c10a403f0",
   "metadata": {},
   "outputs": [],
   "source": []
  }
 ],
 "metadata": {
  "kernelspec": {
   "display_name": "Python 3 (ipykernel)",
   "language": "python",
   "name": "python3"
  },
  "language_info": {
   "codemirror_mode": {
    "name": "ipython",
    "version": 3
   },
   "file_extension": ".py",
   "mimetype": "text/x-python",
   "name": "python",
   "nbconvert_exporter": "python",
   "pygments_lexer": "ipython3",
   "version": "3.12.4"
  }
 },
 "nbformat": 4,
 "nbformat_minor": 5
}
