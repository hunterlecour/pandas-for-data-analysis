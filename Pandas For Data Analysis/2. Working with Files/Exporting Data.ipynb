{
 "cells": [
  {
   "cell_type": "markdown",
   "id": "0a27e0d2-d5bf-4a57-a80b-7522c77ed7d5",
   "metadata": {},
   "source": [
    "### Exporting Data"
   ]
  },
  {
   "cell_type": "code",
   "execution_count": 1,
   "id": "70a13880-3a0c-46f9-a1a5-6b191cd89795",
   "metadata": {},
   "outputs": [],
   "source": [
    "import pandas as pd"
   ]
  },
  {
   "cell_type": "code",
   "execution_count": 5,
   "id": "082f300e-0251-455a-80ca-5fd23819d546",
   "metadata": {},
   "outputs": [
    {
     "data": {
      "text/html": [
       "<div>\n",
       "<style scoped>\n",
       "    .dataframe tbody tr th:only-of-type {\n",
       "        vertical-align: middle;\n",
       "    }\n",
       "\n",
       "    .dataframe tbody tr th {\n",
       "        vertical-align: top;\n",
       "    }\n",
       "\n",
       "    .dataframe thead th {\n",
       "        text-align: right;\n",
       "    }\n",
       "</style>\n",
       "<table border=\"1\" class=\"dataframe\">\n",
       "  <thead>\n",
       "    <tr style=\"text-align: right;\">\n",
       "      <th></th>\n",
       "      <th>employee_id</th>\n",
       "      <th>first_name</th>\n",
       "      <th>last_name</th>\n",
       "      <th>age</th>\n",
       "      <th>gender</th>\n",
       "      <th>birth_date</th>\n",
       "    </tr>\n",
       "  </thead>\n",
       "  <tbody>\n",
       "    <tr>\n",
       "      <th>0</th>\n",
       "      <td>1</td>\n",
       "      <td>Leslie</td>\n",
       "      <td>Knope</td>\n",
       "      <td>44.0</td>\n",
       "      <td>Female</td>\n",
       "      <td>9/25/1979</td>\n",
       "    </tr>\n",
       "    <tr>\n",
       "      <th>1</th>\n",
       "      <td>3</td>\n",
       "      <td>Tom</td>\n",
       "      <td>Haverford</td>\n",
       "      <td>36.0</td>\n",
       "      <td>Male</td>\n",
       "      <td>3/4/1987</td>\n",
       "    </tr>\n",
       "    <tr>\n",
       "      <th>2</th>\n",
       "      <td>4</td>\n",
       "      <td>April</td>\n",
       "      <td>Ludgate</td>\n",
       "      <td>29.0</td>\n",
       "      <td>Female</td>\n",
       "      <td>3/27/1994</td>\n",
       "    </tr>\n",
       "    <tr>\n",
       "      <th>3</th>\n",
       "      <td>6</td>\n",
       "      <td>Donna</td>\n",
       "      <td>Meagle</td>\n",
       "      <td>46.0</td>\n",
       "      <td>Female</td>\n",
       "      <td>7/30/1977</td>\n",
       "    </tr>\n",
       "    <tr>\n",
       "      <th>4</th>\n",
       "      <td>7</td>\n",
       "      <td>Ann</td>\n",
       "      <td>Perkins</td>\n",
       "      <td>35.0</td>\n",
       "      <td>Female</td>\n",
       "      <td>12/1/1988</td>\n",
       "    </tr>\n",
       "    <tr>\n",
       "      <th>5</th>\n",
       "      <td>8</td>\n",
       "      <td>Chris</td>\n",
       "      <td>Traeger</td>\n",
       "      <td>43.0</td>\n",
       "      <td>Male</td>\n",
       "      <td>11/11/1980</td>\n",
       "    </tr>\n",
       "    <tr>\n",
       "      <th>6</th>\n",
       "      <td>9</td>\n",
       "      <td>Ben</td>\n",
       "      <td>Wyatt</td>\n",
       "      <td>38.0</td>\n",
       "      <td>Male</td>\n",
       "      <td>7/26/1985</td>\n",
       "    </tr>\n",
       "    <tr>\n",
       "      <th>7</th>\n",
       "      <td>10</td>\n",
       "      <td>Andy</td>\n",
       "      <td>Dwyer</td>\n",
       "      <td>34.0</td>\n",
       "      <td>Male</td>\n",
       "      <td>3/25/1989</td>\n",
       "    </tr>\n",
       "    <tr>\n",
       "      <th>8</th>\n",
       "      <td>11</td>\n",
       "      <td>Mark</td>\n",
       "      <td>Brendanawicz</td>\n",
       "      <td>40.0</td>\n",
       "      <td>Male</td>\n",
       "      <td>6/14/1983</td>\n",
       "    </tr>\n",
       "    <tr>\n",
       "      <th>9</th>\n",
       "      <td>12</td>\n",
       "      <td>Craig</td>\n",
       "      <td>Middlebrooks</td>\n",
       "      <td>37.0</td>\n",
       "      <td>Male</td>\n",
       "      <td>7/27/1986</td>\n",
       "    </tr>\n",
       "    <tr>\n",
       "      <th>10</th>\n",
       "      <td>13</td>\n",
       "      <td>Jean-Ralphio</td>\n",
       "      <td>Saperstein</td>\n",
       "      <td>NaN</td>\n",
       "      <td>NaN</td>\n",
       "      <td>NaN</td>\n",
       "    </tr>\n",
       "  </tbody>\n",
       "</table>\n",
       "</div>"
      ],
      "text/plain": [
       "    employee_id    first_name     last_name   age  gender  birth_date\n",
       "0             1        Leslie         Knope  44.0  Female   9/25/1979\n",
       "1             3           Tom     Haverford  36.0    Male    3/4/1987\n",
       "2             4         April       Ludgate  29.0  Female   3/27/1994\n",
       "3             6         Donna        Meagle  46.0  Female   7/30/1977\n",
       "4             7           Ann       Perkins  35.0  Female   12/1/1988\n",
       "5             8         Chris       Traeger  43.0    Male  11/11/1980\n",
       "6             9           Ben         Wyatt  38.0    Male   7/26/1985\n",
       "7            10          Andy         Dwyer  34.0    Male   3/25/1989\n",
       "8            11          Mark  Brendanawicz  40.0    Male   6/14/1983\n",
       "9            12         Craig  Middlebrooks  37.0    Male   7/27/1986\n",
       "10           13  Jean-Ralphio    Saperstein   NaN     NaN         NaN"
      ]
     },
     "execution_count": 5,
     "metadata": {},
     "output_type": "execute_result"
    }
   ],
   "source": [
    "df = pd.read_csv(r\"C:\\Users\\hunte\\Documents\\Analyst Workshop\\Pandas For Data Analysis\\2. Working with Files\\parks_and_recreation.csv\")\n",
    "df"
   ]
  },
  {
   "cell_type": "code",
   "execution_count": 6,
   "id": "647510e6-40a2-4f35-8d97-e279f0dc29fb",
   "metadata": {},
   "outputs": [],
   "source": [
    "# Export to Path in your files\n",
    "# This will work but the file will be indexed like above\n",
    "\n",
    "df.to_csv(r\"C:\\Users\\hunte\\Documents\\Analyst Workshop\\Pandas For Data Analysis\\2. Working with Files\\Exports\\parks_export.csv\")"
   ]
  },
  {
   "cell_type": "code",
   "execution_count": 7,
   "id": "1b316db4-c9d3-42d9-922d-2ea08b391aa5",
   "metadata": {},
   "outputs": [],
   "source": [
    "# Export will now index it how we want\n",
    "\n",
    "df.to_csv(r\"C:\\Users\\hunte\\Documents\\Analyst Workshop\\Pandas For Data Analysis\\2. Working with Files\\Exports\\parks_export.csv\",\n",
    "         index = False)"
   ]
  },
  {
   "cell_type": "code",
   "execution_count": 9,
   "id": "8f4201f8-3219-431f-939b-1e992d7bedc8",
   "metadata": {},
   "outputs": [],
   "source": [
    "# Export will now Export the columns we want to see\n",
    "\n",
    "df.to_csv(r\"C:\\Users\\hunte\\Documents\\Analyst Workshop\\Pandas For Data Analysis\\2. Working with Files\\Exports\\parks_export.csv\",\n",
    "         index = False, columns = ['first_name','last_name'])"
   ]
  },
  {
   "cell_type": "code",
   "execution_count": 11,
   "id": "3cf71371-3f44-4cf2-bcdf-bb1c622e8aa9",
   "metadata": {},
   "outputs": [],
   "source": [
    "# Exporting to a Excel File\n",
    "\n",
    "# Use \" !pip install openpyxl xlwt \" If it doesnt automatically work\n",
    "\n",
    "df.to_excel(r\"C:\\Users\\hunte\\Documents\\Analyst Workshop\\Pandas For Data Analysis\\2. Working with Files\\Exports\\parks_export.xlsx\")"
   ]
  },
  {
   "cell_type": "code",
   "execution_count": 12,
   "id": "a87f21a9-14ca-4299-8272-28e4f03c76ed",
   "metadata": {},
   "outputs": [],
   "source": [
    "# Exporting it how we like the columns and creating a new sheet name\n",
    "\n",
    "df.to_excel(r\"C:\\Users\\hunte\\Documents\\Analyst Workshop\\Pandas For Data Analysis\\2. Working with Files\\Exports\\parks_export.xlsx\",\n",
    "           index = False, sheet_name = 'Employees')"
   ]
  },
  {
   "cell_type": "code",
   "execution_count": 13,
   "id": "5157c992-f8a8-4b40-b758-d117c004d31d",
   "metadata": {},
   "outputs": [],
   "source": [
    "# Exporting it into a JSON file\n",
    "\n",
    "df.to_json(r\"C:\\Users\\hunte\\Documents\\Analyst Workshop\\Pandas For Data Analysis\\2. Working with Files\\Exports\\parks_export.json\")"
   ]
  }
 ],
 "metadata": {
  "kernelspec": {
   "display_name": "Python 3 (ipykernel)",
   "language": "python",
   "name": "python3"
  },
  "language_info": {
   "codemirror_mode": {
    "name": "ipython",
    "version": 3
   },
   "file_extension": ".py",
   "mimetype": "text/x-python",
   "name": "python",
   "nbconvert_exporter": "python",
   "pygments_lexer": "ipython3",
   "version": "3.12.4"
  }
 },
 "nbformat": 4,
 "nbformat_minor": 5
}
